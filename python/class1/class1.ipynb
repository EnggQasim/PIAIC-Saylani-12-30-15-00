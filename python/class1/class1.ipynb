{
 "cells": [
  {
   "cell_type": "code",
   "execution_count": 1,
   "metadata": {},
   "outputs": [
    {
     "name": "stdout",
     "output_type": "stream",
     "text": [
      "Muhammad Qasim\n"
     ]
    }
   ],
   "source": [
    "print(\"Muhammad Qasim\")"
   ]
  },
  {
   "cell_type": "code",
   "execution_count": 2,
   "metadata": {},
   "outputs": [
    {
     "name": "stdout",
     "output_type": "stream",
     "text": [
      "Qasim Fayyaz Gulraiz\n"
     ]
    }
   ],
   "source": [
    "print(\"Qasim\",\"Fayyaz\",\"Gulraiz\")"
   ]
  },
  {
   "cell_type": "code",
   "execution_count": 3,
   "metadata": {},
   "outputs": [
    {
     "name": "stdout",
     "output_type": "stream",
     "text": [
      "Qasim**Fayyaz**Gulraiz\n"
     ]
    }
   ],
   "source": [
    "print(\"Qasim\",\"Fayyaz\",\"Gulraiz\", sep=\"**\")"
   ]
  },
  {
   "cell_type": "code",
   "execution_count": 4,
   "metadata": {},
   "outputs": [
    {
     "name": "stdout",
     "output_type": "stream",
     "text": [
      "Qasim\n",
      "Fayyaz\n",
      "Gulraiz\n"
     ]
    }
   ],
   "source": [
    "print(\"Qasim\",\"Fayyaz\",\"Gulraiz\",sep='\\n')"
   ]
  },
  {
   "cell_type": "code",
   "execution_count": 5,
   "metadata": {},
   "outputs": [
    {
     "name": "stdout",
     "output_type": "stream",
     "text": [
      "QasimFayyazGulraiz\n"
     ]
    }
   ],
   "source": [
    "print(\"Qasim\",\"Fayyaz\",\"Gulraiz\", sep='')"
   ]
  },
  {
   "cell_type": "code",
   "execution_count": 6,
   "metadata": {},
   "outputs": [
    {
     "name": "stdout",
     "output_type": "stream",
     "text": [
      "Qasim\n",
      "Aslam\n",
      "A.I\n",
      "Pakistani\n"
     ]
    }
   ],
   "source": [
    "print(\"Qasim\")\n",
    "print(\"Aslam\")\n",
    "print(\"A.I\")\n",
    "print(\"Pakistani\")"
   ]
  },
  {
   "cell_type": "code",
   "execution_count": 7,
   "metadata": {},
   "outputs": [
    {
     "name": "stdout",
     "output_type": "stream",
     "text": [
      "Qasim Aslam A.I Pakistani "
     ]
    }
   ],
   "source": [
    "print(\"Qasim\", end=\" \")\n",
    "print(\"Aslam\", end=\" \")\n",
    "print(\"A.I\", end=\" \")\n",
    "print(\"Pakistani\", end=\" \")"
   ]
  },
  {
   "cell_type": "code",
   "execution_count": null,
   "metadata": {},
   "outputs": [],
   "source": []
  }
 ],
 "metadata": {
  "kernelspec": {
   "display_name": "Python 3",
   "language": "python",
   "name": "python3"
  },
  "language_info": {
   "codemirror_mode": {
    "name": "ipython",
    "version": 3
   },
   "file_extension": ".py",
   "mimetype": "text/x-python",
   "name": "python",
   "nbconvert_exporter": "python",
   "pygments_lexer": "ipython3",
   "version": "3.7.1"
  }
 },
 "nbformat": 4,
 "nbformat_minor": 2
}
