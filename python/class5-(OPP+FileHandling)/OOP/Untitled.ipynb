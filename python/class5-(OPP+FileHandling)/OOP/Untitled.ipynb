{
 "cells": [
  {
   "cell_type": "code",
   "execution_count": 9,
   "metadata": {},
   "outputs": [],
   "source": [
    "class Man():\n",
    "    \n",
    "    counter = 0\n",
    "    \n",
    "    def __init__(self, name, fname, qualifiction):\n",
    "        self.name = name\n",
    "        self.fname = fname\n",
    "        self.qualifiction = qualifiction\n",
    "        self.center = \"Saylani HO\"        \n",
    "        Man.counter += 1\n",
    "        print(\"Tatal Members:\", Man.counter)\n",
    "        \n",
    "    def sleeping(self, snooring=\"Khahaha!\"):\n",
    "        print(\"Iam sleeping \"+snooring)\n",
    "        \n",
    "    def watching(self, watch=\"T.V\"):\n",
    "        print(\"I am watchin \"+str(watch))\n",
    "    \n",
    "    def walking(self, speed=\"5KM/H\"):\n",
    "        print(speed)"
   ]
  },
  {
   "cell_type": "code",
   "execution_count": 10,
   "metadata": {},
   "outputs": [
    {
     "name": "stdout",
     "output_type": "stream",
     "text": [
      "Tatal Members: 1\n",
      "Tatal Members: 2\n",
      "Tatal Members: 3\n"
     ]
    }
   ],
   "source": [
    "obj1 = Man(\"Qasim\",\"Aslam\",\"MS\")\n",
    "obj2 = Man(\"Fayyaz\",\"Farooq\",\"BE\")\n",
    "obj3 = Man(\"Gulraiz\",\"Gulshan\",\"BE\")"
   ]
  },
  {
   "cell_type": "code",
   "execution_count": 3,
   "metadata": {},
   "outputs": [
    {
     "data": {
      "text/plain": [
       "'Qasim'"
      ]
     },
     "execution_count": 3,
     "metadata": {},
     "output_type": "execute_result"
    }
   ],
   "source": [
    "obj1.name"
   ]
  },
  {
   "cell_type": "code",
   "execution_count": 4,
   "metadata": {},
   "outputs": [
    {
     "name": "stdout",
     "output_type": "stream",
     "text": [
      "Iam sleeping Khahaha!\n"
     ]
    }
   ],
   "source": [
    "obj2.sleeping()"
   ]
  },
  {
   "cell_type": "code",
   "execution_count": 6,
   "metadata": {},
   "outputs": [
    {
     "data": {
      "text/plain": [
       "'Saylani HO'"
      ]
     },
     "execution_count": 6,
     "metadata": {},
     "output_type": "execute_result"
    }
   ],
   "source": [
    "obj3.center"
   ]
  },
  {
   "cell_type": "code",
   "execution_count": 8,
   "metadata": {},
   "outputs": [
    {
     "data": {
      "text/plain": [
       "'Ali'"
      ]
     },
     "execution_count": 8,
     "metadata": {},
     "output_type": "execute_result"
    }
   ],
   "source": [
    "obj1.name = \"Ali\"\n",
    "obj1.name"
   ]
  },
  {
   "cell_type": "code",
   "execution_count": 11,
   "metadata": {},
   "outputs": [
    {
     "data": {
      "text/plain": [
       "3"
      ]
     },
     "execution_count": 11,
     "metadata": {},
     "output_type": "execute_result"
    }
   ],
   "source": [
    "Man.counter"
   ]
  },
  {
   "cell_type": "code",
   "execution_count": 14,
   "metadata": {},
   "outputs": [],
   "source": [
    "class Baba(Man):\n",
    "    def eating(self, bread=\"Roti\"):\n",
    "        print(bread)\n",
    "        \n",
    "    def sleeping(self):\n",
    "        print(\"Iam sleeping \")"
   ]
  },
  {
   "cell_type": "code",
   "execution_count": 15,
   "metadata": {},
   "outputs": [
    {
     "name": "stdout",
     "output_type": "stream",
     "text": [
      "Tatal Members: 5\n"
     ]
    }
   ],
   "source": [
    "b1 = Baba('ali','Hamza','abc')"
   ]
  },
  {
   "cell_type": "code",
   "execution_count": 16,
   "metadata": {},
   "outputs": [
    {
     "name": "stdout",
     "output_type": "stream",
     "text": [
      "Iam sleeping \n"
     ]
    }
   ],
   "source": [
    "b1.sleeping()"
   ]
  },
  {
   "cell_type": "code",
   "execution_count": 17,
   "metadata": {},
   "outputs": [
    {
     "data": {
      "text/plain": [
       "str"
      ]
     },
     "execution_count": 17,
     "metadata": {},
     "output_type": "execute_result"
    }
   ],
   "source": [
    "type('adjf')"
   ]
  },
  {
   "cell_type": "code",
   "execution_count": null,
   "metadata": {},
   "outputs": [],
   "source": []
  }
 ],
 "metadata": {
  "kernelspec": {
   "display_name": "Python 3",
   "language": "python",
   "name": "python3"
  },
  "language_info": {
   "codemirror_mode": {
    "name": "ipython",
    "version": 3
   },
   "file_extension": ".py",
   "mimetype": "text/x-python",
   "name": "python",
   "nbconvert_exporter": "python",
   "pygments_lexer": "ipython3",
   "version": "3.7.1"
  }
 },
 "nbformat": 4,
 "nbformat_minor": 2
}
